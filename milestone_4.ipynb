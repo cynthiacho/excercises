{
 "cells": [
  {
   "cell_type": "code",
   "execution_count": 1,
   "metadata": {},
   "outputs": [],
   "source": [
    "# Filter the uneccesary warnings\n",
    "import warnings\n",
    "warnings.filterwarnings(\"ignore\")"
   ]
  },
  {
   "cell_type": "code",
   "execution_count": 2,
   "metadata": {},
   "outputs": [],
   "source": [
    "# Import pandas and numpy\n",
    "import pandas as pd\n",
    "import numpy as np\n",
    "\n",
    "# Fix the random seed\n",
    "np.random.seed(7)"
   ]
  },
  {
   "cell_type": "code",
   "execution_count": 3,
   "metadata": {},
   "outputs": [],
   "source": [
    "# Load the dataset\n",
    "data = pd.read_csv(\"Phishing.csv\")"
   ]
  },
  {
   "cell_type": "code",
   "execution_count": 4,
   "metadata": {},
   "outputs": [],
   "source": [
    "# Rebase the values\n",
    "data.rename(columns={\"Result\": \"Class\"}, inplace=True)\n",
    "\n",
    "data[\"Class\"] = data[\"Class\"].map({-1:0, 1:1})"
   ]
  },
  {
   "cell_type": "code",
   "execution_count": 5,
   "metadata": {},
   "outputs": [],
   "source": [
    "from sklearn.model_selection import train_test_split"
   ]
  },
  {
   "cell_type": "code",
   "execution_count": 6,
   "metadata": {},
   "outputs": [],
   "source": [
    "X = data.iloc[:,0:30].values.astype(int)\n",
    "y = data.iloc[:,30].values.astype(int)\n",
    "\n",
    "X_train, X_test, y_train, y_test = train_test_split(X, y, test_size=0.2, random_state=np.random.seed(7))"
   ]
  },
  {
   "cell_type": "code",
   "execution_count": 7,
   "metadata": {},
   "outputs": [
    {
     "output_type": "execute_result",
     "data": {
      "text/plain": "(None, None)"
     },
     "metadata": {},
     "execution_count": 7
    }
   ],
   "source": [
    "# Serialize the numpy arrays\n",
    "np.save(\"X_train.npy\", X_train), np.save(\"y_train.npy\", y_train)\n",
    "np.save(\"X_test.npy\", X_train), np.save(\"y_test.npy\", y_train)"
   ]
  },
  {
   "cell_type": "code",
   "execution_count": 8,
   "metadata": {},
   "outputs": [],
   "source": [
    "from sklearn.metrics import accuracy_score, precision_recall_fscore_support, classification_report\n",
    "import wandb\n",
    "import time"
   ]
  },
  {
   "cell_type": "code",
   "execution_count": 9,
   "metadata": {
    "tags": []
   },
   "outputs": [
    {
     "output_type": "stream",
     "name": "stdout",
     "text": "Accuracy score of the Logistic Regression Classifier with default hyperparameter values: 0.94\n---- Classification report of the Logistic Regression Classifier with default hyperparameter values ---- \n"
    },
    {
     "output_type": "display_data",
     "data": {
      "text/plain": "<IPython.core.display.HTML object>",
      "text/html": "\n                Logging results to <a href=\"https://wandb.com\" target=\"_blank\">Weights & Biases</a> <a href=\"https://docs.wandb.com/integrations/jupyter.html\" target=\"_blank\">(Documentation)</a>.<br/>\n                Project page: <a href=\"https://app.wandb.ai/marcsiebert/phishing-websites-detection\" target=\"_blank\">https://app.wandb.ai/marcsiebert/phishing-websites-detection</a><br/>\n                Run page: <a href=\"https://app.wandb.ai/marcsiebert/phishing-websites-detection/runs/3soq7eik\" target=\"_blank\">https://app.wandb.ai/marcsiebert/phishing-websites-detection/runs/3soq7eik</a><br/>\n            "
     },
     "metadata": {}
    },
    {
     "output_type": "stream",
     "name": "stderr",
     "text": "Failed to query for notebook name, you can set it manually with the WANDB_NOTEBOOK_NAME environment variable\n                  precision    recall  f1-score   support\n\nPhising Websites       0.94      0.92      0.93       974\n Normal Websites       0.94      0.95      0.94      1237\n\n        accuracy                           0.94      2211\n       macro avg       0.94      0.94      0.94      2211\n    weighted avg       0.94      0.94      0.94      2211\n\n[[ 896   78]\n [  61 1176]]\n"
    }
   ],
   "source": [
    "# Execute simple Logistic Regression with default hyperparameter\n",
    "from sklearn.linear_model import LogisticRegression\n",
    "logreg = LogisticRegression()\n",
    "start = time.time()\n",
    "logreg.fit(X_train, y_train)\n",
    "end = time.time()-start\n",
    "y_pred = logreg.predict(X_test)\n",
    "print('Accuracy score of the Logistic Regression Classifier with default hyperparameter values: {:.2f}'.format(logreg.score(X_test, y_test)))\n",
    "print('---- Classification report of the Logistic Regression Classifier with default hyperparameter values ---- ')\n",
    "wandb.init(project=\"phishing-websites-detection\", name='Logistic Regression')\n",
    "wandb.log({\"accuracy\":accuracy_score(y_test, y_pred)*100.0,\\\n",
    "               \"precision\": precision_recall_fscore_support(y_test, y_pred, average='macro')[0],\n",
    "               \"recall\": precision_recall_fscore_support(y_test, y_pred, average='macro')[1],\n",
    "               \"training_time\":end})\n",
    "from sklearn.metrics import classification_report\n",
    "print(classification_report(y_test, y_pred, target_names=['Phising Websites', 'Normal Websites']))\n",
    "from sklearn.metrics import confusion_matrix\n",
    "confusion_matrix = confusion_matrix(y_test, y_pred)\n",
    "print(confusion_matrix)"
   ]
  },
  {
   "cell_type": "code",
   "execution_count": 10,
   "metadata": {
    "tags": []
   },
   "outputs": [
    {
     "output_type": "display_data",
     "data": {
      "text/plain": "<IPython.core.display.HTML object>",
      "text/html": "\n                Logging results to <a href=\"https://wandb.com\" target=\"_blank\">Weights & Biases</a> <a href=\"https://docs.wandb.com/integrations/jupyter.html\" target=\"_blank\">(Documentation)</a>.<br/>\n                Project page: <a href=\"https://app.wandb.ai/marcsiebert/phishing-websites-detection\" target=\"_blank\">https://app.wandb.ai/marcsiebert/phishing-websites-detection</a><br/>\n                Run page: <a href=\"https://app.wandb.ai/marcsiebert/phishing-websites-detection/runs/2wvwr6gw\" target=\"_blank\">https://app.wandb.ai/marcsiebert/phishing-websites-detection/runs/2wvwr6gw</a><br/>\n            "
     },
     "metadata": {}
    },
    {
     "output_type": "stream",
     "name": "stderr",
     "text": "Failed to query for notebook name, you can set it manually with the WANDB_NOTEBOOK_NAME environment variable\nBest score:  92.44  using  {'tol': 0.001, 'penalty': 'l1', 'max_iter': 250, 'C': 1.0}\n"
    }
   ],
   "source": [
    "# Execute random search process based on Logistic Regression Classifier \n",
    "penalty = ['l1', 'l2']\n",
    "C = [0.8, 0.9 , 1.0]\n",
    "tol = [0.01, 0.001, 0.001]\n",
    "max_iter = [100, 150, 200 , 250]\n",
    "hyperparameters = { 'penalty' : penalty, \n",
    "                    'C' : C,\n",
    "                    'tol' : tol,\n",
    "                    'max_iter' : max_iter}\n",
    "from sklearn.model_selection import RandomizedSearchCV\n",
    "randomCV = RandomizedSearchCV(LogisticRegression(solver='liblinear'), param_distributions=hyperparameters)\n",
    "start = time.time( )\n",
    "randomCV.fit(X_train,y_train)\n",
    "end = time.time()-start\n",
    "wandb.init(project=\"phishing-websites-detection\", name='CV Random Search')\n",
    "wandb.log({\"accuracy\":accuracy_score(y_test, y_pred)*100.0,\\\n",
    "               \"precision\": precision_recall_fscore_support(y_test, y_pred, average='macro')[0],\n",
    "               \"recall\": precision_recall_fscore_support(y_test, y_pred, average='macro')[1],\n",
    "               \"training_time\":end})\n",
    "best_score = randomCV.best_score_\n",
    "print('Best score: ','{:2.2f}'.format(best_score*100), ' using ', randomCV.best_params_ )\n",
    "y_pred = randomCV.predict(X_test)"
   ]
  }
 ],
 "metadata": {
  "language_info": {
   "codemirror_mode": {
    "name": "ipython",
    "version": 3
   },
   "file_extension": ".py",
   "mimetype": "text/x-python",
   "name": "python",
   "nbconvert_exporter": "python",
   "pygments_lexer": "ipython3",
   "version": "3.8.3-final"
  },
  "orig_nbformat": 2,
  "kernelspec": {
   "name": "python38332bitfa67f967466e497d852c7d0d8992fb5e",
   "display_name": "Python 3.8.3 32-bit"
  }
 },
 "nbformat": 4,
 "nbformat_minor": 2
}